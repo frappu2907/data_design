{
 "cells": [
  {
   "cell_type": "markdown",
   "metadata": {},
   "source": [
    "## Installer les librairies"
   ]
  },
  {
   "cell_type": "code",
   "execution_count": 2,
   "metadata": {},
   "outputs": [],
   "source": [
    "import pandas as pd\n",
    "import numpy as np\n",
    "import seaborn as sns\n",
    "import matplotlib.pyplot as plt\n",
    "%matplotlib inline\n",
    "from textblob import TextBlob\n",
    "from wordcloud import WordCloud\n",
    "import plotly.graph_objects as go\n",
    "import plotly.express as px\n"
   ]
  },
  {
   "cell_type": "code",
   "execution_count": 3,
   "metadata": {},
   "outputs": [],
   "source": [
    "import csv\n",
    "import tweepy\n",
    "import ssl"
   ]
  },
  {
   "cell_type": "code",
   "execution_count": 4,
   "metadata": {},
   "outputs": [],
   "source": [
    "import os\n",
    "import tweepy as tw\n",
    "import pandas as pd"
   ]
  },
  {
   "cell_type": "markdown",
   "metadata": {},
   "source": [
    "## Load les datasets téléchargé"
   ]
  },
  {
   "cell_type": "code",
   "execution_count": 12,
   "metadata": {},
   "outputs": [],
   "source": [
    "import configparser"
   ]
  },
  {
   "cell_type": "code",
   "execution_count": 205,
   "metadata": {},
   "outputs": [],
   "source": [
    "taubira_data = pd.read_csv('hidalgo.csv', encoding = 'utf-8')\n",
    "zemmour_data = pd.read_csv('data-final/macron.csv', encoding = 'utf-8')"
   ]
  },
  {
   "cell_type": "markdown",
   "metadata": {},
   "source": [
    " ## Visualiser la data de trump"
   ]
  },
  {
   "cell_type": "code",
   "execution_count": 206,
   "metadata": {},
   "outputs": [
    {
     "data": {
      "text/html": [
       "<div>\n",
       "<style scoped>\n",
       "    .dataframe tbody tr th:only-of-type {\n",
       "        vertical-align: middle;\n",
       "    }\n",
       "\n",
       "    .dataframe tbody tr th {\n",
       "        vertical-align: top;\n",
       "    }\n",
       "\n",
       "    .dataframe thead th {\n",
       "        text-align: right;\n",
       "    }\n",
       "</style>\n",
       "<table border=\"1\" class=\"dataframe\">\n",
       "  <thead>\n",
       "    <tr style=\"text-align: right;\">\n",
       "      <th></th>\n",
       "      <th>Unnamed: 0</th>\n",
       "      <th>User</th>\n",
       "      <th>Tweet</th>\n",
       "    </tr>\n",
       "  </thead>\n",
       "  <tbody>\n",
       "    <tr>\n",
       "      <th>0</th>\n",
       "      <td>0</td>\n",
       "      <td>ChristalRoche</td>\n",
       "      <td>C'est fou comme #BFMTV chouchoutte #MLP en ce ...</td>\n",
       "    </tr>\n",
       "    <tr>\n",
       "      <th>1</th>\n",
       "      <td>1</td>\n",
       "      <td>HugoCouturier</td>\n",
       "      <td>Olivier Piquenot maire de Saint-Léger-de-Rôtes...</td>\n",
       "    </tr>\n",
       "    <tr>\n",
       "      <th>2</th>\n",
       "      <td>2</td>\n",
       "      <td>BobMorlock6</td>\n",
       "      <td>@GhFlorent Je me demande pourquoi certains par...</td>\n",
       "    </tr>\n",
       "    <tr>\n",
       "      <th>3</th>\n",
       "      <td>3</td>\n",
       "      <td>Melusine5513</td>\n",
       "      <td>RT @Nath92798323: @CercleDL @AssembleeNat @Pat...</td>\n",
       "    </tr>\n",
       "    <tr>\n",
       "      <th>4</th>\n",
       "      <td>4</td>\n",
       "      <td>lemoingmaxime</td>\n",
       "      <td>La vérité sur la fameuse croissance économique...</td>\n",
       "    </tr>\n",
       "  </tbody>\n",
       "</table>\n",
       "</div>"
      ],
      "text/plain": [
       "   Unnamed: 0           User  \\\n",
       "0           0  ChristalRoche   \n",
       "1           1  HugoCouturier   \n",
       "2           2    BobMorlock6   \n",
       "3           3   Melusine5513   \n",
       "4           4  lemoingmaxime   \n",
       "\n",
       "                                               Tweet  \n",
       "0  C'est fou comme #BFMTV chouchoutte #MLP en ce ...  \n",
       "1  Olivier Piquenot maire de Saint-Léger-de-Rôtes...  \n",
       "2  @GhFlorent Je me demande pourquoi certains par...  \n",
       "3  RT @Nath92798323: @CercleDL @AssembleeNat @Pat...  \n",
       "4  La vérité sur la fameuse croissance économique...  "
      ]
     },
     "execution_count": 206,
     "metadata": {},
     "output_type": "execute_result"
    }
   ],
   "source": [
    "zemmour_data.head()\n"
   ]
  },
  {
   "cell_type": "markdown",
   "metadata": {},
   "source": [
    " ## Visualiser la data de biden"
   ]
  },
  {
   "cell_type": "code",
   "execution_count": 207,
   "metadata": {},
   "outputs": [
    {
     "data": {
      "text/html": [
       "<div>\n",
       "<style scoped>\n",
       "    .dataframe tbody tr th:only-of-type {\n",
       "        vertical-align: middle;\n",
       "    }\n",
       "\n",
       "    .dataframe tbody tr th {\n",
       "        vertical-align: top;\n",
       "    }\n",
       "\n",
       "    .dataframe thead th {\n",
       "        text-align: right;\n",
       "    }\n",
       "</style>\n",
       "<table border=\"1\" class=\"dataframe\">\n",
       "  <thead>\n",
       "    <tr style=\"text-align: right;\">\n",
       "      <th></th>\n",
       "      <th>Unnamed: 0</th>\n",
       "      <th>User</th>\n",
       "      <th>Tweet</th>\n",
       "    </tr>\n",
       "  </thead>\n",
       "  <tbody>\n",
       "    <tr>\n",
       "      <th>0</th>\n",
       "      <td>0</td>\n",
       "      <td>bourganne</td>\n",
       "      <td>RT @DiogenedArc: 🇫🇷 Au-delà des désaccords, il...</td>\n",
       "    </tr>\n",
       "    <tr>\n",
       "      <th>1</th>\n",
       "      <td>1</td>\n",
       "      <td>Mascotte92</td>\n",
       "      <td>RT @DiogenedArc: 🇫🇷 Au-delà des désaccords, il...</td>\n",
       "    </tr>\n",
       "    <tr>\n",
       "      <th>2</th>\n",
       "      <td>2</td>\n",
       "      <td>wagnermichele3</td>\n",
       "      <td>RT @DiogenedArc: 🇫🇷 Au-delà des désaccords, il...</td>\n",
       "    </tr>\n",
       "    <tr>\n",
       "      <th>3</th>\n",
       "      <td>3</td>\n",
       "      <td>BertinMaria1</td>\n",
       "      <td>@DiogenedArc @laffont9 @Hidalgo @yjadot @vpecr...</td>\n",
       "    </tr>\n",
       "    <tr>\n",
       "      <th>4</th>\n",
       "      <td>4</td>\n",
       "      <td>laffont9</td>\n",
       "      <td>RT @DiogenedArc: 🇫🇷 Au-delà des désaccords, il...</td>\n",
       "    </tr>\n",
       "  </tbody>\n",
       "</table>\n",
       "</div>"
      ],
      "text/plain": [
       "   Unnamed: 0            User  \\\n",
       "0           0       bourganne   \n",
       "1           1      Mascotte92   \n",
       "2           2  wagnermichele3   \n",
       "3           3    BertinMaria1   \n",
       "4           4        laffont9   \n",
       "\n",
       "                                               Tweet  \n",
       "0  RT @DiogenedArc: 🇫🇷 Au-delà des désaccords, il...  \n",
       "1  RT @DiogenedArc: 🇫🇷 Au-delà des désaccords, il...  \n",
       "2  RT @DiogenedArc: 🇫🇷 Au-delà des désaccords, il...  \n",
       "3  @DiogenedArc @laffont9 @Hidalgo @yjadot @vpecr...  \n",
       "4  RT @DiogenedArc: 🇫🇷 Au-delà des désaccords, il...  "
      ]
     },
     "execution_count": 207,
     "metadata": {},
     "output_type": "execute_result"
    }
   ],
   "source": [
    "taubira_data.head()"
   ]
  },
  {
   "cell_type": "code",
   "execution_count": 208,
   "metadata": {},
   "outputs": [
    {
     "data": {
      "text/plain": [
       "'RT @jjbridey94260: En responsabilité et en fidélité, comme en 2017, j’envoie ce jour au @Conseil_constit mon parrainage pour la candidature…'"
      ]
     },
     "execution_count": 208,
     "metadata": {},
     "output_type": "execute_result"
    }
   ],
   "source": [
    "zemmour_data['Tweet'][10]"
   ]
  },
  {
   "cell_type": "code",
   "execution_count": 209,
   "metadata": {},
   "outputs": [
    {
     "data": {
      "text/plain": [
       "'RT @Lna27993134: @Inachiveg @IkuNajo @Jadot @Hidalgo @rglucks1 @BHL Oui vous avez raison j’hallucine ce que j’ai vu 😱'"
      ]
     },
     "execution_count": 209,
     "metadata": {},
     "output_type": "execute_result"
    }
   ],
   "source": [
    "taubira_data['Tweet'][20]"
   ]
  },
  {
   "cell_type": "markdown",
   "metadata": {},
   "source": [
    "## Analyse de la semantique du dataset"
   ]
  },
  {
   "cell_type": "code",
   "execution_count": 210,
   "metadata": {},
   "outputs": [
    {
     "name": "stdout",
     "output_type": "stream",
     "text": [
      "<class 'pandas.core.frame.DataFrame'>\n",
      "RangeIndex: 202 entries, 0 to 201\n",
      "Data columns (total 3 columns):\n",
      " #   Column      Non-Null Count  Dtype \n",
      "---  ------      --------------  ----- \n",
      " 0   Unnamed: 0  202 non-null    int64 \n",
      " 1   User        202 non-null    object\n",
      " 2   Tweet       202 non-null    object\n",
      "dtypes: int64(1), object(2)\n",
      "memory usage: 4.9+ KB\n"
     ]
    }
   ],
   "source": [
    "taubira_data.info()"
   ]
  },
  {
   "cell_type": "code",
   "execution_count": 211,
   "metadata": {},
   "outputs": [
    {
     "data": {
      "text/plain": [
       "0      148\n",
       "1      148\n",
       "2      148\n",
       "3      197\n",
       "4      148\n",
       "      ... \n",
       "197    276\n",
       "198    229\n",
       "199    140\n",
       "200    211\n",
       "201    165\n",
       "Name: length, Length: 202, dtype: int64"
      ]
     },
     "execution_count": 211,
     "metadata": {},
     "output_type": "execute_result"
    }
   ],
   "source": [
    "taubira_data['length'] = taubira_data['Tweet'].apply(len)\n",
    "taubira_data['length']"
   ]
  },
  {
   "cell_type": "code",
   "execution_count": null,
   "metadata": {},
   "outputs": [],
   "source": []
  },
  {
   "cell_type": "markdown",
   "metadata": {},
   "source": [
    "## Nettoyage du dataset et mise en place des stop words "
   ]
  },
  {
   "cell_type": "code",
   "execution_count": null,
   "metadata": {},
   "outputs": [],
   "source": []
  },
  {
   "cell_type": "code",
   "execution_count": 212,
   "metadata": {},
   "outputs": [],
   "source": [
    "taubira_data[\"Tweet\"]= taubira_data[\"Tweet\"].str.lower()"
   ]
  },
  {
   "cell_type": "markdown",
   "metadata": {},
   "source": [
    "## Tokenize les mots de chaque tweet"
   ]
  },
  {
   "cell_type": "code",
   "execution_count": 213,
   "metadata": {},
   "outputs": [],
   "source": [
    "from nltk.tokenize import sent_tokenize\n",
    "from nltk.tokenize import word_tokenize\n",
    "import re\n",
    "import spacy\n",
    "from spacy.lang.fr.stop_words import STOP_WORDS\n",
    "import string\n",
    "from textblob import Blobber\n",
    "from textblob_fr import PatternTagger, PatternAnalyzer\n",
    "tb = Blobber(pos_tagger=PatternTagger(), analyzer=PatternAnalyzer())\n",
    "import plotly.graph_objects as go\n",
    "import plotly.express as px\n",
    "import spacy"
   ]
  },
  {
   "cell_type": "code",
   "execution_count": 214,
   "metadata": {},
   "outputs": [],
   "source": [
    "AComment=[]\n",
    "for comment in taubira_data[\"Tweet\"].apply(str):\n",
    "    Word_Tok = []\n",
    "    for word in  re.sub(\"\\W\",\" \",comment ).split():\n",
    "        Word_Tok.append(word)\n",
    "    AComment.append(Word_Tok)"
   ]
  },
  {
   "cell_type": "code",
   "execution_count": 215,
   "metadata": {},
   "outputs": [
    {
     "data": {
      "text/html": [
       "<div>\n",
       "<style scoped>\n",
       "    .dataframe tbody tr th:only-of-type {\n",
       "        vertical-align: middle;\n",
       "    }\n",
       "\n",
       "    .dataframe tbody tr th {\n",
       "        vertical-align: top;\n",
       "    }\n",
       "\n",
       "    .dataframe thead th {\n",
       "        text-align: right;\n",
       "    }\n",
       "</style>\n",
       "<table border=\"1\" class=\"dataframe\">\n",
       "  <thead>\n",
       "    <tr style=\"text-align: right;\">\n",
       "      <th></th>\n",
       "      <th>Unnamed: 0</th>\n",
       "      <th>User</th>\n",
       "      <th>Tweet</th>\n",
       "      <th>length</th>\n",
       "      <th>Word_Tok</th>\n",
       "    </tr>\n",
       "  </thead>\n",
       "  <tbody>\n",
       "    <tr>\n",
       "      <th>0</th>\n",
       "      <td>0</td>\n",
       "      <td>bourganne</td>\n",
       "      <td>rt @diogenedarc: 🇫🇷 au-delà des désaccords, il...</td>\n",
       "      <td>148</td>\n",
       "      <td>[rt, diogenedarc, au, delà, des, désaccords, i...</td>\n",
       "    </tr>\n",
       "    <tr>\n",
       "      <th>1</th>\n",
       "      <td>1</td>\n",
       "      <td>Mascotte92</td>\n",
       "      <td>rt @diogenedarc: 🇫🇷 au-delà des désaccords, il...</td>\n",
       "      <td>148</td>\n",
       "      <td>[rt, diogenedarc, au, delà, des, désaccords, i...</td>\n",
       "    </tr>\n",
       "    <tr>\n",
       "      <th>2</th>\n",
       "      <td>2</td>\n",
       "      <td>wagnermichele3</td>\n",
       "      <td>rt @diogenedarc: 🇫🇷 au-delà des désaccords, il...</td>\n",
       "      <td>148</td>\n",
       "      <td>[rt, diogenedarc, au, delà, des, désaccords, i...</td>\n",
       "    </tr>\n",
       "    <tr>\n",
       "      <th>3</th>\n",
       "      <td>3</td>\n",
       "      <td>BertinMaria1</td>\n",
       "      <td>@diogenedarc @laffont9 @hidalgo @yjadot @vpecr...</td>\n",
       "      <td>197</td>\n",
       "      <td>[diogenedarc, laffont9, hidalgo, yjadot, vpecr...</td>\n",
       "    </tr>\n",
       "    <tr>\n",
       "      <th>4</th>\n",
       "      <td>4</td>\n",
       "      <td>laffont9</td>\n",
       "      <td>rt @diogenedarc: 🇫🇷 au-delà des désaccords, il...</td>\n",
       "      <td>148</td>\n",
       "      <td>[rt, diogenedarc, au, delà, des, désaccords, i...</td>\n",
       "    </tr>\n",
       "  </tbody>\n",
       "</table>\n",
       "</div>"
      ],
      "text/plain": [
       "   Unnamed: 0            User  \\\n",
       "0           0       bourganne   \n",
       "1           1      Mascotte92   \n",
       "2           2  wagnermichele3   \n",
       "3           3    BertinMaria1   \n",
       "4           4        laffont9   \n",
       "\n",
       "                                               Tweet  length  \\\n",
       "0  rt @diogenedarc: 🇫🇷 au-delà des désaccords, il...     148   \n",
       "1  rt @diogenedarc: 🇫🇷 au-delà des désaccords, il...     148   \n",
       "2  rt @diogenedarc: 🇫🇷 au-delà des désaccords, il...     148   \n",
       "3  @diogenedarc @laffont9 @hidalgo @yjadot @vpecr...     197   \n",
       "4  rt @diogenedarc: 🇫🇷 au-delà des désaccords, il...     148   \n",
       "\n",
       "                                            Word_Tok  \n",
       "0  [rt, diogenedarc, au, delà, des, désaccords, i...  \n",
       "1  [rt, diogenedarc, au, delà, des, désaccords, i...  \n",
       "2  [rt, diogenedarc, au, delà, des, désaccords, i...  \n",
       "3  [diogenedarc, laffont9, hidalgo, yjadot, vpecr...  \n",
       "4  [rt, diogenedarc, au, delà, des, désaccords, i...  "
      ]
     },
     "execution_count": 215,
     "metadata": {},
     "output_type": "execute_result"
    }
   ],
   "source": [
    "taubira_data[\"Word_Tok\"]= AComment\n",
    "taubira_data.head()"
   ]
  },
  {
   "cell_type": "markdown",
   "metadata": {},
   "source": [
    "## Clean dataset stop-words"
   ]
  },
  {
   "cell_type": "code",
   "execution_count": 216,
   "metadata": {},
   "outputs": [],
   "source": [
    "stop_words=set(STOP_WORDS)\n",
    "\n",
    "deselect_stop_words = ['n\\'', 'ne','pas','plus','personne','aucun','ni','aucune']\n",
    "\n",
    "\n",
    "for w in deselect_stop_words:\n",
    "    if w in stop_words:\n",
    "        stop_words.remove(w)\n",
    "    else:\n",
    "        continue\n"
   ]
  },
  {
   "cell_type": "code",
   "execution_count": 217,
   "metadata": {},
   "outputs": [],
   "source": [
    "stop_words_2 = ['http','avant', 'siens', 'seules', 'peut', 'elles-memes', 'la', 'derrière', 'etant', 'quelles', 'sien', 'via', 'moi-même', 'deja', 's’', 'anterieure', 'telle', 'désormais', 'vos', 'pres', 'suffisante', 'antérieure', 'dix-sept', 'mes', 'specifique', 'parmi', 'tant', 'quelques', 'debout', 'avoir', 'ils', 'deuxième', 'aura', 'avais', 'semblent', 'troisième', 'celles-ci', 'qui', 'apres', 'pourrait', 'quarante', 'ouvert', 'cette', 'peux', 'tiens', 'a', 'puisque', 'procedant', 'antérieur', 'fais', \"d'\", 'sera', 'déjà', 'serait', 'mêmes', 'nôtre', 'sinon', 'vas', 'quoique', 'dixième', 'sent', 'soi-même', 'certaine', 'combien', 'hue', 'faisaient', 'devant', 'mon', 'anterieures', 'ai', 'seule', 'comment', 'parlent', 'miens', 'etc', 'tu', 'hi', 'moins', 'quelle', 'il', 'jusqu', 'celles-la', 'où', 'as', 'vé', \"m'\", 'tout', 'avaient', 'comme', 'nombreuses', 'leurs', 'c’', 'néanmoins', 'celle-ci', 'certaines', 'suffit', 'dite', 'quatorze', 'elle', 'reste', 'trois', 'maintenant', 'toutes', 'autres', 'toi', 'nos', 'dits', 'desormais', 'se', 'auront', 'sans', 'hé', 'entre', 'ait', 'différentes', 'telles', 'directement', 'être', 'soi-meme', 'selon', 'ses', 'étaient', 'n’', 'vôtres', 'donc', 'enfin', 'étant', 'dix-huit', 'eh', 'là', 'siennes', 'depuis', 'compris', 'longtemps', 'lors', 'uns', 'ouverts', 'concernant', 'ouverte', 'était', \"s'\", 'prealable', 'lesquelles', 'puis', 'cinquième', 'tel', 'lui', 'ça', 'façon', 'toi-même', 'vôtre', 'ceux-là', 'ces', 'pendant', 'retour', 'tend', 'ceux-ci', 'da', 'dix', 'aux', 'aussi', 'devers', 'ouias', 'seraient', 'eux', 'tenir', 'quand', 'seront', 'surtout', 'tres', 'seize', 'specifiques', 'or', 'me', 'dans', 'ta', 'etre', 'ainsi', 'ce', 'voilà', 'antérieures', 't’', 'nous-mêmes', 'encore', 'hep', 'un', 'on', 'ayant', 'faisant', 'tels', 'soit', 'suivantes', 'quelque', 'après', 'car', 'ou', 'huitième', 'ceux', 'ouste', 'huit', 'va', 'dont', 'tien', 'à', 'effet', 'très', 'etait', 'trente', 'celles-là', 'autrement', 'tes', 'deuxièmement', 'plusieurs', 'pour', 'juste', 'autre', 'premier', 'revoila', 'seuls', 'semble', 'merci', 'quels', 'parler', 'douze', \"l'\", 'même', 'cinquante', 'vers', 'relativement', 'assez', 'suivants', 'rend', 'également', 'cent', 'elle-même', 'onzième', 'possible', 'sienne', 'suis', 'alors', 'hem', 'etais', 'maint', 'sauf', 'quinze', 'auraient', 'relative', 'ont', 'peuvent', 'feront', 'spécifique', 'stop', \"t'\", 'tiennes', 'certes', 'votre', 'pu', 'ès', 'elles-mêmes', 'abord', 'té', 'avec', 'sait', 'exactement', 'font', 'nombreux', 'quatre-vingt', 'afin', 'dire', 'miennes', 'précisement', 'sept', 'premièrement', 'cinquantième', 'malgré', 'elle-meme', 'sa', 'memes', 'attendu', 'lesquels', 'déja', 'excepté', 'chacun', 'cinq', 'mille', 'celle', 'celui-ci', 'eu', 'notre', 'chaque', 'soi', 'son', 'rt', 'o', 'quelconque', 'avait', 'différente', 'sur', 'revoici', 'toujours', 'plutot', 'moindres', 'semblaient', 'precisement', 'aurait', 'seul', 'auxquelles', 'vous', 'vous-mêmes', 'moi', 'les', 'jusque', 'diverses', 'spécifiques', 'quatrièmement', 'cependant', 'nôtres', 'eux-mêmes', 'tenant', 'revoilà', 'differente', 'pourquoi', 'anterieur', 'ha', 'près', 'celui', 'rendre', 'dès', 'mien', 'en', 'i', 'touchant', 'pense', 'chez', 'hou', 'bat', 'd’', 'celui-la', 'suivante', 'allaient', \"c'\", 'unes', 'suivre', 'parfois', 'restent', 'lui-meme', 'vu', 'l’', 'du', 'pouvait', \"qu'\", 'tous', 'dessous', 'diverse', 'deux', 'vont', 'semblable', 'parle', 'suivant', 'environ', 'derriere', 'notamment', 'quel', 'basee', 'cela', 'treize', 'moi-meme', 'ton', 'chacune', 'mais', 'devra', 'quant-à-soi', 'parce', 'envers', 'douzième', 'celles', 'dessus', 'voici', 'quoi', \"quelqu'un\", 'quatrième', 'souvent', 'hors', 'aie', 'si', 'ceci', 'restant', 'gens', 'leur', 'divers', 'proche', 'ô', 'lui-même', 'tente', 'lequel', 'nul', 'lorsque', 'certains', 'avons', 'neanmoins', 'hormis', 'des', 'certain', 'sixième', 'suffisant', 'préalable', 'tienne', 'peu', 'toi-meme', 'quatre', 'aupres', 'differentes', 'egalement', 'votres', 'meme', 'desquelles', 'au', 'que', 'ci', 'différent', 'bas', 'delà', 'une', 'dit', 'laisser', 'elles', 'partant', 'doit', 'nouveau', 'neuvième', 'vingt', 'tellement', 'sous', 'desquels', 'quant', 'dehors', 'etaient', 'celui-là', 'autrui', 'malgre', 'auxquels', 'première', 'differents', 'te', 'celle-là', 'fait', 'duquel', 'cet', 'es', 'permet', 'mienne', 'dejà', 'ho', 'sont', 'troisièmement', 'et', 'na', 'houp', 'étais', 'différents', 'soixante', 'six', 'doivent', 'je', 'celle-la', 'y', \"j'\", 'different', 'outre', 'dedans', 'pourrais', 'quiconque', 'septième', 'facon', 'dix-neuf', 'seulement', 'le', 'voila', 'qu’', 'lès', 'toute', 'vais', 'possibles', 'laquelle', 'durant', 'de', 'cinquantaine', 'j’', 'auquel', 'hui', 'suit', 'â', 'nous', 'ah', 'est', 'importe', 'allons', 'onze', 'directe', 'par', 'ma', 'plutôt', 'm’','pour','rien','qui','avoir','depuis','rt','']"
   ]
  },
  {
   "cell_type": "code",
   "execution_count": 218,
   "metadata": {},
   "outputs": [
    {
     "data": {
      "text/plain": [
       "510"
      ]
     },
     "execution_count": 218,
     "metadata": {},
     "output_type": "execute_result"
    }
   ],
   "source": [
    "len(stop_words_2)"
   ]
  },
  {
   "cell_type": "code",
   "execution_count": 219,
   "metadata": {},
   "outputs": [],
   "source": [
    "AllfilteredComment=[]\n",
    "for comment in taubira_data[\"Word_Tok\"]:\n",
    "    filteredComment = [w for w in comment if not ((w in stop_words_2) or (len(w) == 1))]\n",
    "    AllfilteredComment.append(' '.join(filteredComment))"
   ]
  },
  {
   "cell_type": "code",
   "execution_count": 220,
   "metadata": {},
   "outputs": [
    {
     "data": {
      "text/html": [
       "<div>\n",
       "<style scoped>\n",
       "    .dataframe tbody tr th:only-of-type {\n",
       "        vertical-align: middle;\n",
       "    }\n",
       "\n",
       "    .dataframe tbody tr th {\n",
       "        vertical-align: top;\n",
       "    }\n",
       "\n",
       "    .dataframe thead th {\n",
       "        text-align: right;\n",
       "    }\n",
       "</style>\n",
       "<table border=\"1\" class=\"dataframe\">\n",
       "  <thead>\n",
       "    <tr style=\"text-align: right;\">\n",
       "      <th></th>\n",
       "      <th>Unnamed: 0</th>\n",
       "      <th>User</th>\n",
       "      <th>Tweet</th>\n",
       "      <th>length</th>\n",
       "      <th>Word_Tok</th>\n",
       "      <th>CommentAferPreproc</th>\n",
       "    </tr>\n",
       "  </thead>\n",
       "  <tbody>\n",
       "    <tr>\n",
       "      <th>0</th>\n",
       "      <td>0</td>\n",
       "      <td>bourganne</td>\n",
       "      <td>rt @diogenedarc: 🇫🇷 au-delà des désaccords, il...</td>\n",
       "      <td>148</td>\n",
       "      <td>[rt, diogenedarc, au, delà, des, désaccords, i...</td>\n",
       "      <td>diogenedarc désaccords bien sûr amp recommandé...</td>\n",
       "    </tr>\n",
       "    <tr>\n",
       "      <th>1</th>\n",
       "      <td>1</td>\n",
       "      <td>Mascotte92</td>\n",
       "      <td>rt @diogenedarc: 🇫🇷 au-delà des désaccords, il...</td>\n",
       "      <td>148</td>\n",
       "      <td>[rt, diogenedarc, au, delà, des, désaccords, i...</td>\n",
       "      <td>diogenedarc désaccords bien sûr amp recommandé...</td>\n",
       "    </tr>\n",
       "    <tr>\n",
       "      <th>2</th>\n",
       "      <td>2</td>\n",
       "      <td>wagnermichele3</td>\n",
       "      <td>rt @diogenedarc: 🇫🇷 au-delà des désaccords, il...</td>\n",
       "      <td>148</td>\n",
       "      <td>[rt, diogenedarc, au, delà, des, désaccords, i...</td>\n",
       "      <td>diogenedarc désaccords bien sûr amp recommandé...</td>\n",
       "    </tr>\n",
       "    <tr>\n",
       "      <th>3</th>\n",
       "      <td>3</td>\n",
       "      <td>BertinMaria1</td>\n",
       "      <td>@diogenedarc @laffont9 @hidalgo @yjadot @vpecr...</td>\n",
       "      <td>197</td>\n",
       "      <td>[diogenedarc, laffont9, hidalgo, yjadot, vpecr...</td>\n",
       "      <td>diogenedarc laffont9 hidalgo yjadot vpecresse ...</td>\n",
       "    </tr>\n",
       "    <tr>\n",
       "      <th>4</th>\n",
       "      <td>4</td>\n",
       "      <td>laffont9</td>\n",
       "      <td>rt @diogenedarc: 🇫🇷 au-delà des désaccords, il...</td>\n",
       "      <td>148</td>\n",
       "      <td>[rt, diogenedarc, au, delà, des, désaccords, i...</td>\n",
       "      <td>diogenedarc désaccords bien sûr amp recommandé...</td>\n",
       "    </tr>\n",
       "  </tbody>\n",
       "</table>\n",
       "</div>"
      ],
      "text/plain": [
       "   Unnamed: 0            User  \\\n",
       "0           0       bourganne   \n",
       "1           1      Mascotte92   \n",
       "2           2  wagnermichele3   \n",
       "3           3    BertinMaria1   \n",
       "4           4        laffont9   \n",
       "\n",
       "                                               Tweet  length  \\\n",
       "0  rt @diogenedarc: 🇫🇷 au-delà des désaccords, il...     148   \n",
       "1  rt @diogenedarc: 🇫🇷 au-delà des désaccords, il...     148   \n",
       "2  rt @diogenedarc: 🇫🇷 au-delà des désaccords, il...     148   \n",
       "3  @diogenedarc @laffont9 @hidalgo @yjadot @vpecr...     197   \n",
       "4  rt @diogenedarc: 🇫🇷 au-delà des désaccords, il...     148   \n",
       "\n",
       "                                            Word_Tok  \\\n",
       "0  [rt, diogenedarc, au, delà, des, désaccords, i...   \n",
       "1  [rt, diogenedarc, au, delà, des, désaccords, i...   \n",
       "2  [rt, diogenedarc, au, delà, des, désaccords, i...   \n",
       "3  [diogenedarc, laffont9, hidalgo, yjadot, vpecr...   \n",
       "4  [rt, diogenedarc, au, delà, des, désaccords, i...   \n",
       "\n",
       "                                  CommentAferPreproc  \n",
       "0  diogenedarc désaccords bien sûr amp recommandé...  \n",
       "1  diogenedarc désaccords bien sûr amp recommandé...  \n",
       "2  diogenedarc désaccords bien sûr amp recommandé...  \n",
       "3  diogenedarc laffont9 hidalgo yjadot vpecresse ...  \n",
       "4  diogenedarc désaccords bien sûr amp recommandé...  "
      ]
     },
     "execution_count": 220,
     "metadata": {},
     "output_type": "execute_result"
    }
   ],
   "source": [
    "taubira_data[\"CommentAferPreproc\"]=AllfilteredComment\n",
    "taubira_data.head()"
   ]
  },
  {
   "cell_type": "code",
   "execution_count": 221,
   "metadata": {},
   "outputs": [],
   "source": [
    "del taubira_data['Word_Tok']\n",
    "del taubira_data['Tweet']\n",
    "del taubira_data['User']\n",
    "del taubira_data['length']\n",
    "del taubira_data['Unnamed: 0']"
   ]
  },
  {
   "cell_type": "code",
   "execution_count": 222,
   "metadata": {},
   "outputs": [
    {
     "data": {
      "text/html": [
       "<div>\n",
       "<style scoped>\n",
       "    .dataframe tbody tr th:only-of-type {\n",
       "        vertical-align: middle;\n",
       "    }\n",
       "\n",
       "    .dataframe tbody tr th {\n",
       "        vertical-align: top;\n",
       "    }\n",
       "\n",
       "    .dataframe thead th {\n",
       "        text-align: right;\n",
       "    }\n",
       "</style>\n",
       "<table border=\"1\" class=\"dataframe\">\n",
       "  <thead>\n",
       "    <tr style=\"text-align: right;\">\n",
       "      <th></th>\n",
       "      <th>CommentAferPreproc</th>\n",
       "    </tr>\n",
       "  </thead>\n",
       "  <tbody>\n",
       "    <tr>\n",
       "      <th>0</th>\n",
       "      <td>diogenedarc désaccords bien sûr amp recommandé...</td>\n",
       "    </tr>\n",
       "    <tr>\n",
       "      <th>1</th>\n",
       "      <td>diogenedarc désaccords bien sûr amp recommandé...</td>\n",
       "    </tr>\n",
       "    <tr>\n",
       "      <th>2</th>\n",
       "      <td>diogenedarc désaccords bien sûr amp recommandé...</td>\n",
       "    </tr>\n",
       "    <tr>\n",
       "      <th>3</th>\n",
       "      <td>diogenedarc laffont9 hidalgo yjadot vpecresse ...</td>\n",
       "    </tr>\n",
       "    <tr>\n",
       "      <th>4</th>\n",
       "      <td>diogenedarc désaccords bien sûr amp recommandé...</td>\n",
       "    </tr>\n",
       "  </tbody>\n",
       "</table>\n",
       "</div>"
      ],
      "text/plain": [
       "                                  CommentAferPreproc\n",
       "0  diogenedarc désaccords bien sûr amp recommandé...\n",
       "1  diogenedarc désaccords bien sûr amp recommandé...\n",
       "2  diogenedarc désaccords bien sûr amp recommandé...\n",
       "3  diogenedarc laffont9 hidalgo yjadot vpecresse ...\n",
       "4  diogenedarc désaccords bien sûr amp recommandé..."
      ]
     },
     "execution_count": 222,
     "metadata": {},
     "output_type": "execute_result"
    }
   ],
   "source": [
    "taubira_data.head()"
   ]
  },
  {
   "cell_type": "code",
   "execution_count": 223,
   "metadata": {},
   "outputs": [],
   "source": [
    "taubira_data.to_csv('hidalgo_filter.csv')"
   ]
  },
  {
   "cell_type": "markdown",
   "metadata": {},
   "source": [
    "# Nuage de mot taubira"
   ]
  },
  {
   "cell_type": "code",
   "execution_count": 66,
   "metadata": {},
   "outputs": [
    {
     "ename": "NameError",
     "evalue": "name 'df_subset_biden' is not defined",
     "output_type": "error",
     "traceback": [
      "\u001b[0;31m---------------------------------------------------------------------------\u001b[0m",
      "\u001b[0;31mNameError\u001b[0m                                 Traceback (most recent call last)",
      "\u001b[0;32m<ipython-input-66-fbd737e85396>\u001b[0m in \u001b[0;36m<module>\u001b[0;34m\u001b[0m\n\u001b[0;32m----> 1\u001b[0;31m \u001b[0mtext\u001b[0m \u001b[0;34m=\u001b[0m \u001b[0mstr\u001b[0m\u001b[0;34m(\u001b[0m\u001b[0mdf_subset_biden\u001b[0m\u001b[0;34m.\u001b[0m\u001b[0mtext\u001b[0m\u001b[0;34m)\u001b[0m\u001b[0;34m\u001b[0m\u001b[0;34m\u001b[0m\u001b[0m\n\u001b[0m\u001b[1;32m      2\u001b[0m \u001b[0;34m\u001b[0m\u001b[0m\n\u001b[1;32m      3\u001b[0m \u001b[0;31m#Création du nuage\u001b[0m\u001b[0;34m\u001b[0m\u001b[0;34m\u001b[0m\u001b[0;34m\u001b[0m\u001b[0m\n\u001b[1;32m      4\u001b[0m \u001b[0mwordcloud\u001b[0m \u001b[0;34m=\u001b[0m \u001b[0mWordCloud\u001b[0m\u001b[0;34m(\u001b[0m\u001b[0mmax_font_size\u001b[0m\u001b[0;34m=\u001b[0m\u001b[0;36m100\u001b[0m\u001b[0;34m,\u001b[0m \u001b[0mmax_words\u001b[0m\u001b[0;34m=\u001b[0m\u001b[0;36m500\u001b[0m\u001b[0;34m,\u001b[0m\u001b[0mscale\u001b[0m\u001b[0;34m=\u001b[0m\u001b[0;36m10\u001b[0m\u001b[0;34m,\u001b[0m\u001b[0mrelative_scaling\u001b[0m\u001b[0;34m=\u001b[0m\u001b[0;36m.6\u001b[0m\u001b[0;34m,\u001b[0m\u001b[0mbackground_color\u001b[0m\u001b[0;34m=\u001b[0m\u001b[0;34m\"black\"\u001b[0m\u001b[0;34m,\u001b[0m \u001b[0mcolormap\u001b[0m \u001b[0;34m=\u001b[0m \u001b[0;34m\"rainbow\"\u001b[0m\u001b[0;34m)\u001b[0m\u001b[0;34m.\u001b[0m\u001b[0mgenerate\u001b[0m\u001b[0;34m(\u001b[0m\u001b[0mtext\u001b[0m\u001b[0;34m)\u001b[0m\u001b[0;34m\u001b[0m\u001b[0;34m\u001b[0m\u001b[0m\n\u001b[1;32m      5\u001b[0m \u001b[0;34m\u001b[0m\u001b[0m\n",
      "\u001b[0;31mNameError\u001b[0m: name 'df_subset_biden' is not defined"
     ]
    }
   ],
   "source": [
    "\n",
    "text = str(taubira_data.text)\n",
    "\n",
    "#Création du nuage\n",
    "wordcloud = WordCloud(max_font_size=100, max_words=500,scale=10,relative_scaling=.6,background_color=\"black\", colormap = \"rainbow\").generate(text)\n",
    "\n",
    "\n",
    "plt.figure(figsize=(15,10))\n",
    "plt.imshow(wordcloud, interpolation='bilinear')\n",
    "plt.axis(\"off\")\n",
    "plt.show()"
   ]
  },
  {
   "cell_type": "code",
   "execution_count": null,
   "metadata": {},
   "outputs": [],
   "source": []
  },
  {
   "cell_type": "code",
   "execution_count": null,
   "metadata": {},
   "outputs": [],
   "source": []
  }
 ],
 "metadata": {
  "kernelspec": {
   "display_name": "Python 3",
   "language": "python",
   "name": "python3"
  },
  "language_info": {
   "codemirror_mode": {
    "name": "ipython",
    "version": 3
   },
   "file_extension": ".py",
   "mimetype": "text/x-python",
   "name": "python",
   "nbconvert_exporter": "python",
   "pygments_lexer": "ipython3",
   "version": "3.8.5"
  }
 },
 "nbformat": 4,
 "nbformat_minor": 4
}
